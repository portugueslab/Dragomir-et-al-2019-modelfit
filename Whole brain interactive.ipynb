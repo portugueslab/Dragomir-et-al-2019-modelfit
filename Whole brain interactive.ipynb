{
 "cells": [
  {
   "cell_type": "code",
   "execution_count": null,
   "metadata": {},
   "outputs": [],
   "source": [
    "using DataFrames\n",
    "using JLD2\n",
    "using PlotlyJS\n",
    "using Interact"
   ]
  },
  {
   "cell_type": "code",
   "execution_count": null,
   "metadata": {},
   "outputs": [],
   "source": [
    "include(\"plot_utils.jl\")"
   ]
  },
  {
   "cell_type": "code",
   "execution_count": null,
   "metadata": {},
   "outputs": [],
   "source": [
    "@load \"Data/roi_data_ind.jld2\" rois"
   ]
  },
  {
   "cell_type": "code",
   "execution_count": null,
   "metadata": {},
   "outputs": [],
   "source": [
    "dx = dy = 0.8f0\n",
    "dz = -1.0f0\n",
    "jitter = randn(Float32, (size(rois.x,1),3));"
   ]
  },
  {
   "cell_type": "code",
   "execution_count": null,
   "metadata": {},
   "outputs": [],
   "source": [
    "using Interact"
   ]
  },
  {
   "cell_type": "code",
   "execution_count": null,
   "metadata": {},
   "outputs": [],
   "source": [
    "function change_display(to_display)\n",
    "    if to_display == \"τw\"\n",
    "        colors = continuous_color_by_parameter(rois.τw, param_max=8, hue_min=65,\n",
    " hue_max=0, luminance_min=75, luminance_max=20, chroma_min=70, chroma_max=70)\n",
    "    else\n",
    "        colors = continuous_colors_from_rois(rois, l_start=48,l_end=48)\n",
    "    end\n",
    "    restyle!(p, marker_color=[colors])\n",
    "end\n",
    "\n",
    "dd = dropdown([\"τw\",\"ei_θ\"])\n",
    "Interact.@on change_display(&dd)"
   ]
  },
  {
   "cell_type": "code",
   "execution_count": null,
   "metadata": {},
   "outputs": [],
   "source": [
    "ROIs = scatter3d(x=rois.x .* dx.+jitter[:,1],\n",
    "                 y=rois.y .* dy.+jitter[:,2],\n",
    "                 z=rois.z .* dz.+jitter[:,3],\n",
    "                 mode=\"markers\", marker_color=colors, marker=attr(size=2))\n",
    "p = plot(ROIs);"
   ]
  },
  {
   "cell_type": "code",
   "execution_count": null,
   "metadata": {},
   "outputs": [],
   "source": [
    "vbox(dd, p)"
   ]
  },
  {
   "cell_type": "markdown",
   "metadata": {},
   "source": [
    "The ei_θ parameters is defined like this:\n",
    "![](theta_explainer.svg)"
   ]
  },
  {
   "cell_type": "code",
   "execution_count": null,
   "metadata": {},
   "outputs": [],
   "source": []
  }
 ],
 "metadata": {
  "@webio": {
   "lastCommId": "2b52443ae2a74ab59d2209befa9fb84f",
   "lastKernelId": "1d602b8a-3b9f-4e3c-90e1-949f60fdd72e"
  },
  "kernelspec": {
   "display_name": "Julia 1.2.0",
   "language": "julia",
   "name": "julia-1.2"
  },
  "language_info": {
   "file_extension": ".jl",
   "mimetype": "application/julia",
   "name": "julia",
   "version": "1.2.0"
  }
 },
 "nbformat": 4,
 "nbformat_minor": 2
}
