{
 "cells": [
  {
   "cell_type": "code",
   "execution_count": null,
   "metadata": {},
   "outputs": [],
   "source": [
    "using FileIO\n",
    "using JLD2\n",
    "using DataFrames\n",
    "using CategoricalArrays\n",
    "using Query\n",
    "\n",
    "using Plots\n",
    "using StatsPlots\n",
    "\n",
    "using Formatting\n",
    "\n",
    "include(\"data_preparation.jl\")\n",
    "include(\"integration_models_optim.jl\")"
   ]
  }
 ],
 "metadata": {
  "kernelspec": {
   "display_name": "Julia 1.2.0",
   "language": "julia",
   "name": "julia-1.2"
  },
  "language_info": {
   "file_extension": ".jl",
   "mimetype": "application/julia",
   "name": "julia",
   "version": "1.2.0"
  }
 },
 "nbformat": 4,
 "nbformat_minor": 2
}
