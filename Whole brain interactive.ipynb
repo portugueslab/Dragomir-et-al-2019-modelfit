{
 "cells": [
  {
   "cell_type": "code",
   "execution_count": null,
   "metadata": {},
   "outputs": [],
   "source": [
    "using DataFrames\n",
    "using JLD2\n",
    "using PlotlyJS\n",
    "using Interact"
   ]
  },
  {
   "cell_type": "code",
   "execution_count": null,
   "metadata": {},
   "outputs": [],
   "source": [
    "include(\"plot_utils.jl\")"
   ]
  },
  {
   "cell_type": "code",
   "execution_count": null,
   "metadata": {},
   "outputs": [],
   "source": [
    "@load \"Data/roi_data_ind.jld2\" rois"
   ]
  },
  {
   "cell_type": "markdown",
   "metadata": {},
   "source": [
    "Recalculate effecive time constant"
   ]
  },
  {
   "cell_type": "code",
   "execution_count": null,
   "metadata": {},
   "outputs": [],
   "source": [
    "@. rois[!, :τw] = (rois.τL * abs(rois.L) + rois.τR * abs(rois.R))/(abs(rois.L)+abs(rois.R));"
   ]
  },
  {
   "cell_type": "markdown",
   "metadata": {},
   "source": [
    "Spatial coordinates and <1px jitter to improve display"
   ]
  },
  {
   "cell_type": "code",
   "execution_count": null,
   "metadata": {},
   "outputs": [],
   "source": [
    "dx = dy = 0.8f0\n",
    "dz = -1.0f0\n",
    "jitter = randn(Float32, (size(rois.x,1),3));"
   ]
  },
  {
   "cell_type": "code",
   "execution_count": null,
   "metadata": {},
   "outputs": [],
   "source": [
    "using Interact"
   ]
  },
  {
   "cell_type": "code",
   "execution_count": null,
   "metadata": {},
   "outputs": [],
   "source": [
    "function change_display(to_display)\n",
    "    if to_display == \"τ effective\"\n",
    "        colors = continuous_color_by_parameter(rois.τw, param_max=8, hue_min=65,\n",
    " hue_max=0, luminance_min=75, luminance_max=20, chroma_min=70, chroma_max=70)\n",
    "    elseif to_display == \"P\"\n",
    "        colors = continuous_color_by_parameter(log.(rois.P),param_min=-0.6, param_max=0.6, hue_min=120,\n",
    "  hue_max=320, luminance_min=50, luminance_max=30, chroma_min=70, chroma_max=2)\n",
    "    elseif to_display == \"τ difference\"\n",
    "        colors = continuous_color_by_parameter(abs.(rois.τL .- rois.τR), param_max=8, hue_min=280,\n",
    "              hue_max=200, luminance_min=70, luminance_max=30, chroma_min=40, chroma_max=60)\n",
    "    elseif to_display == \"ei_θ\"\n",
    "        colors = continuous_colors_from_rois(rois, l_start=48,l_end=48)\n",
    "    end\n",
    "    restyle!(p, marker_color=[colors])\n",
    "    restyle!(paramplot, marker_color=[colors])\n",
    "end\n",
    "\n",
    "function change_markersize(ms)\n",
    "    restyle!(p, marker_size=ms)\n",
    "end\n",
    "\n",
    "dd = dropdown([\"τ effective\",\"ei_θ\", \"τ difference\", \"P\"])\n",
    "Interact.@on change_display(&dd)\n",
    "\n",
    "markersize = slider(0.1:0.1:3, value=1.5, label=\"dot size\")\n",
    "Interact.@on change_markersize(&markersize)"
   ]
  },
  {
   "cell_type": "code",
   "execution_count": null,
   "metadata": {},
   "outputs": [],
   "source": [
    "ROIs = scatter3d(x=rois.x .* dx.+jitter[:,1],\n",
    "                 y=rois.y .* dy.+jitter[:,2],\n",
    "                 z=rois.z .* dz.+jitter[:,3],\n",
    "                 mode=\"markers\", marker=attr(size=2))\n",
    "p = plot(ROIs);\n",
    "\n",
    "paramscatt = scattergl(x=rois.τw,\n",
    "                     y=rois.ei_θ,\n",
    "                 mode=\"markers\", marker=attr(size=2))\n",
    "paramplot = plot(paramscatt);"
   ]
  },
  {
   "cell_type": "markdown",
   "metadata": {},
   "source": [
    "The dropdown selects the parameter to color the ROIs. Make sure to run the lower cell as well to get a display of the parameter space"
   ]
  },
  {
   "cell_type": "code",
   "execution_count": null,
   "metadata": {},
   "outputs": [],
   "source": [
    "vbox(hbox(dd, markersize), p)"
   ]
  },
  {
   "cell_type": "code",
   "execution_count": null,
   "metadata": {
    "scrolled": true
   },
   "outputs": [],
   "source": [
    "paramplot"
   ]
  },
  {
   "cell_type": "markdown",
   "metadata": {},
   "source": [
    "The ei_θ parameter is defined like this:\n",
    "![](theta_explainer.svg)"
   ]
  },
  {
   "cell_type": "code",
   "execution_count": null,
   "metadata": {},
   "outputs": [],
   "source": []
  }
 ],
 "metadata": {
  "@webio": {
   "lastCommId": "3f350548f8a94c668717132e4afaf55c",
   "lastKernelId": "4dc9e37c-4f49-4d93-9ce8-f482b79f409b"
  },
  "kernelspec": {
   "display_name": "Julia 1.2.0",
   "language": "julia",
   "name": "julia-1.2"
  },
  "language_info": {
   "file_extension": ".jl",
   "mimetype": "application/julia",
   "name": "julia",
   "version": "1.2.0"
  }
 },
 "nbformat": 4,
 "nbformat_minor": 2
}
