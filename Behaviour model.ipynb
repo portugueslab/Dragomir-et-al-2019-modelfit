{
 "cells": [
  {
   "cell_type": "code",
   "execution_count": null,
   "metadata": {
    "scrolled": false
   },
   "outputs": [],
   "source": [
    "using JLD2\n",
    "using AxisArrays\n",
    "using Formatting\n",
    "using Plots\n",
    "using Colors\n",
    "using Interact\n",
    "using Statistics\n",
    "using MAT"
   ]
  },
  {
   "cell_type": "markdown",
   "metadata": {},
   "source": [
    "# Collect the data"
   ]
  },
  {
   "cell_type": "code",
   "execution_count": null,
   "metadata": {},
   "outputs": [],
   "source": [
    "turndata = matread(raw\"./Data/turn_rates.m\")"
   ]
  },
  {
   "cell_type": "code",
   "execution_count": null,
   "metadata": {
    "scrolled": true
   },
   "outputs": [],
   "source": [
    "coherences = [0:-0.1:-1;0.1:0.1:1];"
   ]
  },
  {
   "cell_type": "code",
   "execution_count": null,
   "metadata": {},
   "outputs": [],
   "source": [
    "positive_turns = convert(Array{Union{Missing, Float64}},turndata[\"all_positive_turns\"]);\n",
    "negative_turns = convert(Array{Union{Missing, Float64}},turndata[\"all_negative_turns\"]);\n",
    "for t in [positive_turns, negative_turns]\n",
    "    t[((~).(isfinite.(t)))] .= missing\n",
    "end"
   ]
  },
  {
   "cell_type": "code",
   "execution_count": null,
   "metadata": {},
   "outputs": [],
   "source": [
    "mean_turns_r, mean_turns_l = [[mean(skipmissing(tr[:,i_coh])) for i_coh in 1:length(coherences)]\n",
    "                        for tr in [positive_turns, negative_turns]];"
   ]
  },
  {
   "cell_type": "code",
   "execution_count": null,
   "metadata": {},
   "outputs": [],
   "source": [
    "coherence_order = sortperm(coherences);\n",
    "coherences_sorted = coherences[coherence_order];"
   ]
  },
  {
   "cell_type": "markdown",
   "metadata": {},
   "source": [
    "Put everything on to one side (symmetry)"
   ]
  },
  {
   "cell_type": "code",
   "execution_count": null,
   "metadata": {},
   "outputs": [],
   "source": [
    "trial_duration = 12;\n",
    "mean_turn_rate = (mean_turns_l[coherence_order] .+\n",
    "                  mean_turns_r[coherence_order[end:-1:1]]) ./\n",
    "                 (2*trial_duration);"
   ]
  },
  {
   "cell_type": "markdown",
   "metadata": {},
   "source": [
    "# Constraining the integrator model "
   ]
  },
  {
   "cell_type": "markdown",
   "metadata": {},
   "source": [
    "Under the assumption that the integrator output is a Poisson rate"
   ]
  },
  {
   "cell_type": "markdown",
   "metadata": {},
   "source": [
    "We will have to posit an baseline rate (at coherence 0), and allow for inhibtion. The baseline rate can be read out directly from the data"
   ]
  },
  {
   "cell_type": "code",
   "execution_count": null,
   "metadata": {},
   "outputs": [],
   "source": [
    "r_b = mean_turn_rate[length(coherences)÷2+1]\n",
    "turn_rate_deviation = mean_turn_rate .- r_b;"
   ]
  },
  {
   "cell_type": "markdown",
   "metadata": {},
   "source": [
    "Steady-state equation of the integrator model is: $ r_L = L s_l^P + R s_r^P + r_b $"
   ]
  },
  {
   "cell_type": "code",
   "execution_count": null,
   "metadata": {},
   "outputs": [],
   "source": [
    "function sim_turn_rate(c_l, c_r, P, coh)\n",
    "    if coh > 0\n",
    "        return  c_l*(coh^P)\n",
    "    else\n",
    "        return -c_r*((-coh)^P)\n",
    "    end\n",
    "end"
   ]
  },
  {
   "cell_type": "markdown",
   "metadata": {},
   "source": [
    "Let's use the Optim package to find the 3 parameters. It is a fit of a power law with the same exponent and different coefficients for positive and negative sides"
   ]
  },
  {
   "cell_type": "code",
   "execution_count": null,
   "metadata": {},
   "outputs": [],
   "source": [
    "using Optim"
   ]
  },
  {
   "cell_type": "code",
   "execution_count": null,
   "metadata": {},
   "outputs": [],
   "source": [
    "function sim_turn_rate_p1(c_l, c_r,coh)\n",
    "    if coh > 0\n",
    "        return  c_l*(coh)\n",
    "    else\n",
    "        return -c_r*((-coh))\n",
    "    end\n",
    "end"
   ]
  },
  {
   "cell_type": "code",
   "execution_count": null,
   "metadata": {},
   "outputs": [],
   "source": [
    "initial_params = [0.1, 0.1, 1.0];"
   ]
  },
  {
   "cell_type": "code",
   "execution_count": null,
   "metadata": {},
   "outputs": [],
   "source": [
    "errf = param -> sum(\n",
    "    ((sim_turn_rate).(param..., coherences_sorted) -\n",
    "        turn_rate_deviation).^2)\n",
    "od1 = OnceDifferentiable(errf, initial_params);"
   ]
  },
  {
   "cell_type": "code",
   "execution_count": null,
   "metadata": {
    "scrolled": true
   },
   "outputs": [],
   "source": [
    "res = optimize(errf, initial_params, BFGS());"
   ]
  },
  {
   "cell_type": "code",
   "execution_count": null,
   "metadata": {},
   "outputs": [],
   "source": [
    "sim_rate = (sim_turn_rate).(res.minimizer..., coherences_sorted);\n",
    "\n",
    "scatter(coherences_sorted, turn_rate_deviation .+ r_b, label=\"data\")\n",
    "plot!(coherences_sorted, sim_rate .+ r_b, label=\"model\", legend=:bottomright)\n",
    "xlabel!(\"Coherence\")\n",
    "ylabel!(\"Turns per second in the stimulus direction\")\n",
    "#savefig(\"Results/turn_rates_per_coherence.pdf\")"
   ]
  },
  {
   "cell_type": "code",
   "execution_count": null,
   "metadata": {},
   "outputs": [],
   "source": [
    "L, R, P = res.minimizer"
   ]
  },
  {
   "cell_type": "markdown",
   "metadata": {},
   "source": [
    "$\\tau$s will be determined by the transition experiment."
   ]
  },
  {
   "cell_type": "code",
   "execution_count": null,
   "metadata": {},
   "outputs": [],
   "source": [
    "I = L\n",
    "C = -R"
   ]
  },
  {
   "cell_type": "markdown",
   "metadata": {},
   "source": [
    "# Figure out the remaining parameter from the transition experiments"
   ]
  },
  {
   "cell_type": "code",
   "execution_count": null,
   "metadata": {},
   "outputs": [],
   "source": [
    "@load \"Data/mean_transition_responses.jld2\" mn_responses"
   ]
  },
  {
   "cell_type": "code",
   "execution_count": null,
   "metadata": {},
   "outputs": [],
   "source": [
    "current_coherence = 0.6\n",
    "previous_coherences = [-1.0, -0.6, -0.3, 0.3, 0.6, 1.0];\n",
    "\n",
    "exp_variants = [(pr, current_coherence) for pr in previous_coherences]\n",
    "\n",
    "all_variants = [(pr, cc) for pr in previous_coherences for cc in [0.3, 0.6, 1.0]];\n",
    "            \n",
    "# A helper function to convert coherences to integers for quick indexing\n",
    "intcoh = c->round(Int64, c*10)"
   ]
  },
  {
   "cell_type": "code",
   "execution_count": null,
   "metadata": {},
   "outputs": [],
   "source": [
    "colors = parse.(Colorant, [\"#5F4772\", \"#8A7AAB\", \"#AFA8CC\", \"#809B3C\", \"#6B7C35\", \"#485727\"]);"
   ]
  },
  {
   "cell_type": "code",
   "execution_count": null,
   "metadata": {},
   "outputs": [],
   "source": [
    "k = AxisArrays.axes(mn_responses[10,10])[1]\n",
    "time_exp = k.val\n",
    "\n",
    "plot()\n",
    "for (i_prev, previous) in enumerate(previous_coherences)\n",
    "    plot!(time_exp, mn_responses[intcoh.(previous), intcoh(current_coherence)],\n",
    "        color=colors[i_prev],\n",
    "          label=\"prev. coh $(previous)\")\n",
    "end\n",
    "plot!(legend=:bottomright)"
   ]
  },
  {
   "cell_type": "markdown",
   "metadata": {},
   "source": [
    "## Full integrator model"
   ]
  },
  {
   "cell_type": "code",
   "execution_count": null,
   "metadata": {},
   "outputs": [],
   "source": [
    "stim_duration = 20\n",
    "turn_rate_1 = 3.0 # number of turns per second for coherence 1\n",
    "dt_sim = 0.005\n",
    "n_sim_pre = n_sim_post = round(Int64, stim_duration/dt_sim)\n",
    "n_sim = n_sim_pre*2\n",
    "sim_time = (0:n_sim_pre*2-1)*dt_sim"
   ]
  },
  {
   "cell_type": "code",
   "execution_count": null,
   "metadata": {},
   "outputs": [],
   "source": [
    "\"Function with makes time series of coherences for an experiment variant\"\n",
    "function coherences_from_variant_int(coh_pre, coh_post)\n",
    "    coh_pos = zeros(Int16, n_sim) \n",
    "    coh_neg = zeros(Int16, n_sim)\n",
    "    for (coh, slice) in zip([coh_pre, coh_post], [1:n_sim_pre, n_sim_pre+1:n_sim])\n",
    "        if coh>0\n",
    "            coh_pos[slice] .= round(Int16, coh*10)\n",
    "        else\n",
    "            coh_neg[slice] .= round(Int16, -coh*10)\n",
    "        end\n",
    "    end\n",
    "    return coh_pos, coh_neg\n",
    "end"
   ]
  },
  {
   "cell_type": "code",
   "execution_count": null,
   "metadata": {},
   "outputs": [],
   "source": [
    "include(\"data_preparation.jl\")\n",
    "include(\"integration_models_optim.jl\")"
   ]
  },
  {
   "cell_type": "markdown",
   "metadata": {},
   "source": [
    "Exact values for the integrator rates"
   ]
  },
  {
   "cell_type": "code",
   "execution_count": null,
   "metadata": {},
   "outputs": [],
   "source": [
    "function turn_angle(I, C, P, τI, τC, variant, turn_angle)\n",
    "    coh_pos, coh_neg = coherences_from_variant_int(variant...);\n",
    "    cohs = collect(0:0.1:1.0);\n",
    "    int_left = independent_integrator_model(I, C, P, τI, τC, coh_pos, coh_neg, dt_sim, 0.0, cohs)\n",
    "    int_right = independent_integrator_model(I, C, P, τI, τC, coh_neg, coh_pos, dt_sim, 0.0, cohs)\n",
    "\n",
    "    trial_duration = 12\n",
    "\n",
    "    mid = length(int_left) ÷ 2\n",
    "    n_take = round(Int64, trial_duration/dt_sim)\n",
    "    \n",
    "    angle_total = cumsum(int_left[mid-n_take:mid+n_take]\n",
    "                        .-int_right[mid-n_take:mid+n_take]).*(turn_angle*dt_sim)\n",
    "    return angle_total .- angle_total[n_take]\n",
    "end\n",
    "\n",
    "function turn_angle_exact(I, C, P, τI, τC, variant, turn_angle)\n",
    "    coh_pre, coh_post = variant\n",
    "    angle_total = zeros(n_sim)\n",
    "    sm, sp = (coh > 0 ? coh^P : -(-coh)^P for coh in [coh_pre, coh_post])\n",
    "    t_pre = (0:n_sim_pre-1)*dt_sim\n",
    "    angle_total[1:n_sim_pre] = (turn_angle*(I-C)*sm).*(t_pre.-t_pre[end])\n",
    "    angle_total[(n_sim_pre+1):end] = @. turn_angle*(sp*(I - C) * t_pre -\n",
    "                                     (sp-sm) * (I * τI * (1 - exp.(-t_pre / τI)) -\n",
    "                                                C * τC * (1 - exp.(-t_pre / τC))))\n",
    "    trial_duration = 12\n",
    "    n_take = round(Int64, trial_duration/dt_sim)\n",
    "    return angle_total[n_sim_pre-n_take:n_sim_pre+n_take]\n",
    "end"
   ]
  },
  {
   "cell_type": "code",
   "execution_count": null,
   "metadata": {
    "scrolled": true
   },
   "outputs": [],
   "source": [
    "trial_duration = 12\n",
    "n_take = Int(trial_duration/dt_sim)\n",
    "sim_time_cut = sim_time[n_sim_pre-n_take:n_sim_pre+n_take] .- sim_time[n_sim_pre]"
   ]
  },
  {
   "cell_type": "code",
   "execution_count": null,
   "metadata": {},
   "outputs": [],
   "source": [
    "@manipulate for τS=0:0.05:2.0, τD=0.1:0.05:2.0, turn_amount=10:60\n",
    "    plot()\n",
    "    for (i_prev, ev) in enumerate(exp_variants)\n",
    "        ta = turn_angle_exact(I, C, P, τS, τD, ev, turn_amount)\n",
    "        plot!(time_exp, mn_responses[intcoh.(ev)],\n",
    "            c=colors[i_prev], lw=0.5, legend=:none)\n",
    "        plot!(sim_time_cut, ta, c=colors[i_prev], linestyle=:dash)\n",
    "    end\n",
    "    ylims!(-75,75)\n",
    "    xlabel!(\"Time [s]\")\n",
    "    ylabel!(\"Angle turned [°]\")\n",
    "end"
   ]
  },
  {
   "cell_type": "markdown",
   "metadata": {},
   "source": [
    "A guess at paramters from the interactive display:"
   ]
  },
  {
   "cell_type": "code",
   "execution_count": null,
   "metadata": {
    "scrolled": true
   },
   "outputs": [],
   "source": [
    "initial_params = [1.0, 2.0, 30]"
   ]
  },
  {
   "cell_type": "markdown",
   "metadata": {},
   "source": [
    "Optimize the 3 parameters ($\\beta$, $\\tau$ and turn angle)"
   ]
  },
  {
   "cell_type": "code",
   "execution_count": null,
   "metadata": {},
   "outputs": [],
   "source": [
    "current_coherence=1.0"
   ]
  },
  {
   "cell_type": "code",
   "execution_count": null,
   "metadata": {},
   "outputs": [],
   "source": [
    "exp_variants = [(pr, cu) for pr in previous_coherences for cu in [0.3, 0.6, 1.0]];"
   ]
  },
  {
   "cell_type": "code",
   "execution_count": null,
   "metadata": {},
   "outputs": [],
   "source": [
    "function fit_mistake(params)\n",
    "    τI, τC, turn_amount = params\n",
    "    total_error = 0.0\n",
    "    for ev in exp_variants\n",
    "        ta = turn_angle_exact(I, C, P, τI, τC, ev, turn_amount)[1:end-1]\n",
    "        total_error += sum((ta-mn_responses[round.(Int64,(ev[1]*10, ev[2]*10))]).^2)\n",
    "        \n",
    "    end\n",
    "    return total_error\n",
    "end\n",
    "\n",
    "# We need to define the function as being once-differentiable to \n",
    "# use box-limitied optimization\n",
    "funcopt = OnceDifferentiable(fit_mistake, initial_params);"
   ]
  },
  {
   "cell_type": "code",
   "execution_count": null,
   "metadata": {},
   "outputs": [],
   "source": [
    "res_turn = optimize(funcopt, \n",
    "    [0.01,0.01,10], [20.0, 20.0, 70], initial_params, Fminbox(BFGS()))"
   ]
  },
  {
   "cell_type": "code",
   "execution_count": null,
   "metadata": {},
   "outputs": [],
   "source": [
    "τI, τC, turn_amount = res_turn.minimizer"
   ]
  },
  {
   "cell_type": "code",
   "execution_count": null,
   "metadata": {},
   "outputs": [],
   "source": [
    "println(format(\"Optimal paramters are r_b: {:.2f}, I: {:.2f}, C: {:.2f}, P: {:.2f}, τI: {:.2f}, τC: {:.2f}, turn angle: {:.2f}\", r_b, I, C, P, τI, τC, turn_amount))"
   ]
  },
  {
   "cell_type": "markdown",
   "metadata": {},
   "source": [
    "## The error landscape around the two τ values"
   ]
  },
  {
   "cell_type": "code",
   "execution_count": null,
   "metadata": {},
   "outputs": [],
   "source": [
    "deltarange = -0.8:0.1:2.5\n",
    "fit_errors = [\n",
    "    fit_mistake([τI+dτI, τC+dτC, turn_amount])\n",
    "    \n",
    "    for dτC in deltarange, dτI in deltarange\n",
    "];"
   ]
  },
  {
   "cell_type": "code",
   "execution_count": null,
   "metadata": {},
   "outputs": [],
   "source": [
    "heatmap(deltarange .+ τI, deltarange .+ τC, fit_errors, aspect_ratio=1)\n",
    "#savefig(\"Results/tauerrorspace_big.png\")"
   ]
  },
  {
   "cell_type": "markdown",
   "metadata": {},
   "source": [
    "### Zoomed"
   ]
  },
  {
   "cell_type": "code",
   "execution_count": null,
   "metadata": {},
   "outputs": [],
   "source": [
    "deltarange = -0.2:0.05:0.2\n",
    "fit_errors = [\n",
    "    fit_mistake([τI + dτI, τC + dτC, turn_amount])\n",
    "    \n",
    "    for dτC in deltarange, dτI in deltarange\n",
    "];\n",
    "heatmap(deltarange .+ τI, deltarange .+ τC, fit_errors, aspect_ratio=1)"
   ]
  },
  {
   "cell_type": "markdown",
   "metadata": {},
   "source": [
    "# Plotting the fit result for coherence 0.6 after the transition"
   ]
  },
  {
   "cell_type": "code",
   "execution_count": null,
   "metadata": {},
   "outputs": [],
   "source": [
    "red_variants = [(pr, 0.6) for pr in previous_coherences];"
   ]
  },
  {
   "cell_type": "code",
   "execution_count": null,
   "metadata": {},
   "outputs": [],
   "source": [
    "ei_θ = mod2pi.(atan.(I, C).-(π/4)) |> θ -> (θ > π ? 2*π - θ : θ)\n",
    "\n",
    "τw = (τI .* abs.(I) + τC.* abs.(C))./(abs.(I)+ abs.(C));"
   ]
  },
  {
   "cell_type": "code",
   "execution_count": null,
   "metadata": {},
   "outputs": [],
   "source": [
    "plot(size=(500,500), grid=:none, tick_direction=:out)\n",
    "for (i_prev, ev) in enumerate(red_variants)\n",
    "        ta = turn_angle(I, C, P, τI, τC, ev, turn_amount)\n",
    "        plot!(time_exp, mn_responses[intcoh.(ev)],\n",
    "            c=colors[i_prev], lw=0.5, legend=:none)\n",
    "        plot!(sim_time_cut, ta, c=colors[i_prev], linestyle=:dash)\n",
    "end\n",
    "ylims!(-100,100)\n",
    "xlabel!(\"Time [s]\")\n",
    "ylabel!(\"Angle turned [°]\")\n",
    "#savefig(\"Results/Figure_4/poisson.pdf\")"
   ]
  },
  {
   "cell_type": "markdown",
   "metadata": {},
   "source": [
    "# Simulate the model for a run of experiment 26 and plot the turns"
   ]
  },
  {
   "cell_type": "markdown",
   "metadata": {},
   "source": [
    "## Load a sequence"
   ]
  },
  {
   "cell_type": "code",
   "execution_count": null,
   "metadata": {},
   "outputs": [],
   "source": [
    "using DataStructures"
   ]
  },
  {
   "cell_type": "code",
   "execution_count": null,
   "metadata": {},
   "outputs": [],
   "source": [
    "@load \"./Data/exp_26_stimsequence.jld2\" t stimdata stim_map"
   ]
  },
  {
   "cell_type": "code",
   "execution_count": null,
   "metadata": {},
   "outputs": [],
   "source": [
    "# A simplified version of reconstruction of coherence sequence\n",
    "# which does not require the cell\n",
    "function coherence_sequence(stim_number, timing, map)\n",
    "    n_t_ups = timing.n_frames_trial*timing.n_upsample\n",
    "    coh_pos = zeros(UInt8, n_t_ups)\n",
    "    coh_neg = zeros(UInt8, n_t_ups)\n",
    "\n",
    "    for i in 1:n_t_ups\n",
    "        # figure out the time\n",
    "        t = (i-1)*timing.dt_sim\n",
    "\n",
    "        # in which plane of the planes where the ROI is\n",
    "        # is the current t?\n",
    "        i_plane = floor(Int64, t / timing.trial_duration)+1\n",
    "\n",
    "        t_in_plane = t - (i_plane-1)*timing.trial_duration\n",
    "        idx_plane = round(Int64, t_in_plane/timing.dt_stim)+1\n",
    "\n",
    "        if 0 <= idx_plane <= size(stim_number[i_plane], 2)\n",
    "            val = stim_number[i_plane][idx_plane]\n",
    "            if val > 0.\n",
    "                v1 = round(Int64, val)\n",
    "                coh = get(map, v1, 0.0)\n",
    "                if coh > 0\n",
    "                    coh_pos[i] = round(UInt8, coh*10)\n",
    "                else\n",
    "                    coh_neg[i] = round(UInt8, -coh*10)\n",
    "                end\n",
    "            end\n",
    "        end\n",
    "    end\n",
    "\n",
    "\n",
    "    return coh_pos, coh_neg\n",
    "end"
   ]
  },
  {
   "cell_type": "code",
   "execution_count": null,
   "metadata": {},
   "outputs": [],
   "source": [
    "stim_L, stim_R = coherence_sequence(stimdata, t, stim_map)"
   ]
  },
  {
   "cell_type": "code",
   "execution_count": null,
   "metadata": {},
   "outputs": [],
   "source": [
    "include(\"poisson_model.jl\")"
   ]
  },
  {
   "cell_type": "code",
   "execution_count": null,
   "metadata": {},
   "outputs": [],
   "source": [
    "cohs = collect(0.0:10.0);\n",
    "function simulate_poisson(stim_L, stim_R, I, C, P, τI, τC)\n",
    "    int_left  = independent_integrator_model(I, C, P, τI, τC, stim_L, stim_R, t.dt_sim, 0.0, cohs)\n",
    "    int_right = independent_integrator_model(I, C, P, τI, τC, stim_R, stim_L, t.dt_sim, 0.0, cohs)\n",
    "    spikes_l = simulate_poisson(int_left  .+ r_b, t.dt_sim)\n",
    "    spikes_r = simulate_poisson(int_right .+ r_b, t.dt_sim)\n",
    "    return int_left, int_right, spikes_l, spikes_r\n",
    "end"
   ]
  },
  {
   "cell_type": "code",
   "execution_count": null,
   "metadata": {},
   "outputs": [],
   "source": [
    "int_left, int_right, spikes_l, spikes_r = simulate_poisson(stim_L, stim_R, I, C, P, τw, τw);"
   ]
  },
  {
   "cell_type": "code",
   "execution_count": null,
   "metadata": {},
   "outputs": [],
   "source": [
    "using DataFrames"
   ]
  },
  {
   "cell_type": "code",
   "execution_count": null,
   "metadata": {},
   "outputs": [],
   "source": [
    "df_int = DataFrame(t=(0:length(int_left)-1)*t.dt_sim, int_left=int_left, int_right=int_right);"
   ]
  },
  {
   "cell_type": "code",
   "execution_count": null,
   "metadata": {
    "scrolled": true
   },
   "outputs": [],
   "source": [
    "color_l, color_r = coherence_colors =parse.(Colorant, [\n",
    "\"#B07382\",\n",
    "\"#738C89\" ] )"
   ]
  },
  {
   "cell_type": "code",
   "execution_count": null,
   "metadata": {
    "scrolled": false
   },
   "outputs": [],
   "source": [
    "dy = -0.4\n",
    "scatter(spikes_l, zero(spikes_l), markershape=:vline, markerstrokecolor=color_l)\n",
    "plot!((1:length(int_left))*t.dt_sim, int_left, color=color_l)\n",
    "\n",
    "scatter!(spikes_r, fill(dy, length(spikes_r)), markershape=:vline, markerstrokecolor=color_r)\n",
    "plot!((1:length(int_left))*t.dt_sim, int_right.+ dy, color=color_r, legend=nothing, xlims=(0, length(int_left)*t.dt_sim),\n",
    "    tick_direction=:out, grid=nothing, size=(1000,400))"
   ]
  },
  {
   "cell_type": "markdown",
   "metadata": {},
   "source": [
    "# Investigate the fit to the spurts experiment"
   ]
  },
  {
   "cell_type": "code",
   "execution_count": null,
   "metadata": {},
   "outputs": [],
   "source": [
    "n_fish = 54;\n",
    "const spurt_durations = [1, 2, 3, 4, 6, 8, 10];\n",
    "const spurt_coherences = [0.3, 0.6, 1.0];"
   ]
  },
  {
   "cell_type": "code",
   "execution_count": null,
   "metadata": {},
   "outputs": [],
   "source": [
    "@save \"./data/suprt_turn_rates.jld2\" turn_rates"
   ]
  },
  {
   "cell_type": "code",
   "execution_count": null,
   "metadata": {},
   "outputs": [],
   "source": [
    "dt_sim = 0.05"
   ]
  },
  {
   "cell_type": "code",
   "execution_count": null,
   "metadata": {},
   "outputs": [],
   "source": [
    "function spurt_average_rate(coherence, spurt_duration, I, C, P, τI, τC)\n",
    "    n_t = round(Int, spurt_duration / dt_sim)\n",
    "    coh_pows = collect(0:0.1:1)\n",
    "    coh_left = fill(round(Int, coherence*10), n_t) \n",
    "    coh_right = zero(coh_left)\n",
    "    int_left =  independent_integrator_model(I, C, P, τI, τC, coh_left, coh_right, dt_sim, 0.0, coh_pows)\n",
    "    int_right = independent_integrator_model(I, C, P, τI, τC, coh_right, coh_left, dt_sim, 0.0, coh_pows)\n",
    "    return mean(int_left), mean(int_right)\n",
    "end"
   ]
  },
  {
   "cell_type": "code",
   "execution_count": null,
   "metadata": {},
   "outputs": [],
   "source": [
    "spurt_exp_turn_rates = [mean(turn_rates[coh],dims=3)[1:2,:,1] for coh in spurt_coherences];\n",
    "    "
   ]
  },
  {
   "cell_type": "code",
   "execution_count": null,
   "metadata": {},
   "outputs": [],
   "source": [
    "function error_spurts(params)\n",
    "    r_b, I, C, P, τI, τC = params\n",
    "    \n",
    "    dif = 0.0\n",
    "    for (i_coh, (coh, exp_rates)) in enumerate(zip(spurt_coherences, spurt_exp_turn_rates))\n",
    "        rates = spurt_average_rate.(coh, spurt_durations, I, C, P, τI, τC)\n",
    "        dif += sum((first.(rates) .+ r_b .-exp_rates[1,:]).^2)\n",
    "        dif += sum((last.(rates) .+ r_b .-exp_rates[2,:]).^2)\n",
    "    end\n",
    "    return dif\n",
    "end\n",
    "\n",
    "initial_params = [0.1, I, C, P, τI, τC]\n",
    "\n",
    "spurtopt = OnceDifferentiable(error_spurts, initial_params);"
   ]
  },
  {
   "cell_type": "code",
   "execution_count": null,
   "metadata": {},
   "outputs": [],
   "source": [
    "res_spurt = optimize(spurtopt, \n",
    "    [0.0, -10.0, -10.0, 0.01, 0.01, 0.01],\n",
    "    [1.0, 10.0, 10.0, 4.0, 10.0, 10.0], initial_params, Fminbox(BFGS()));"
   ]
  },
  {
   "cell_type": "code",
   "execution_count": null,
   "metadata": {},
   "outputs": [],
   "source": [
    "sp_r_b, sp_I, sp_C, sp_P, sp_τI, sp_τC = res_spurt.minimizer;\n",
    "println(format(\"Optimal paramters are r_b: {:.2f}, I: {:.2f}, C: {:.2f}, P: {:.2f}, τI: {:.2f}, τC: {:.2f}\",\n",
    "        sp_r_b, sp_I, sp_C, sp_P, sp_τI, sp_τC))"
   ]
  },
  {
   "cell_type": "code",
   "execution_count": null,
   "metadata": {
    "scrolled": false
   },
   "outputs": [],
   "source": [
    "plot()\n",
    "for (i_coh, coh) in enumerate(spurt_coherences)\n",
    "    plot!(spurt_durations, spurt_exp_turn_rates[i_coh][1,:])\n",
    "    plot!(spurt_durations, spurt_exp_turn_rates[i_coh][2,:])\n",
    "    rates = spurt_average_rate.(coh, spurt_durations, sp_I, sp_C, sp_P, sp_τI, sp_τC )\n",
    "        plot!(spurt_durations, first.(rates) .+ sp_r_b, color=RGB(0,0,0))\n",
    "        plot!(spurt_durations, last.(rates).+ sp_r_b, color=RGB(0,0,0))\n",
    "\n",
    "end\n",
    "plot!(xlabel=\"spurt duration [s]\", ylabel=\"turn rate [turns/s]\", legend=nothing)"
   ]
  },
  {
   "cell_type": "markdown",
   "metadata": {},
   "source": [
    "Agreement with parameters fitted through transition experiment"
   ]
  },
  {
   "cell_type": "code",
   "execution_count": null,
   "metadata": {},
   "outputs": [],
   "source": [
    "plot()\n",
    "for coh in spurt_coherences\n",
    "        plot!(spurt_durations, mean(turn_rates[coh],dims=3)[2,:,1])\n",
    "        plot!(spurt_durations, mean(turn_rates[coh],dims=3)[1,:,1])\n",
    "        rates = spurt_average_rate.(coh, spurt_durations, I, C, P, τI, τC )\n",
    "            plot!(spurt_durations, first.(rates) .+ r_b, color=RGB(0,0,0))\n",
    "            plot!(spurt_durations, last.(rates).+ r_b, color=RGB(0,0,0))\n",
    "        \n",
    "end\n",
    "plot!(xlabel=\"spurt duration [s]\", ylabel=\"turn rate [turns/s]\")"
   ]
  }
 ],
 "metadata": {
  "@webio": {
   "lastCommId": "38429b94a9b6493399bd24a75272b6c5",
   "lastKernelId": "f5f5ef3d-96e7-402f-a166-3c5a21b9e5ea"
  },
  "kernelspec": {
   "display_name": "Julia 1.2.0",
   "language": "julia",
   "name": "julia-1.2"
  },
  "language_info": {
   "file_extension": ".jl",
   "mimetype": "application/julia",
   "name": "julia",
   "version": "1.2.0"
  }
 },
 "nbformat": 4,
 "nbformat_minor": 2
}
